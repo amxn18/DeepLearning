{
  "nbformat": 4,
  "nbformat_minor": 0,
  "metadata": {
    "colab": {
      "provenance": [],
      "gpuType": "T4"
    },
    "kernelspec": {
      "name": "python3",
      "display_name": "Python 3"
    },
    "language_info": {
      "name": "python"
    },
    "accelerator": "GPU"
  },
  "cells": [
    {
      "cell_type": "code",
      "execution_count": null,
      "metadata": {
        "id": "79GVJF6AdwZ_"
      },
      "outputs": [],
      "source": [
        "!pip install kagglehub"
      ]
    },
    {
      "cell_type": "code",
      "source": [
        "import kagglehub\n",
        "\n",
        "# Download the dataset\n",
        "path = kagglehub.dataset_download(\"bhavikjikadara/dog-and-cat-classification-dataset\")\n",
        "\n",
        "print(\"Path to dataset files:\", path)"
      ],
      "metadata": {
        "id": "O8L6KPYAd6N0"
      },
      "execution_count": null,
      "outputs": []
    },
    {
      "cell_type": "code",
      "source": [
        "import tensorflow\n",
        "from tensorflow import keras\n",
        "from tensorflow.keras.preprocessing.image import ImageDataGenerator, load_img, img_to_array"
      ],
      "metadata": {
        "id": "xbNDqDYDebPj"
      },
      "execution_count": 25,
      "outputs": []
    },
    {
      "cell_type": "code",
      "source": [
        "datagen = ImageDataGenerator(\n",
        "    rotation_range=40,           # Random rotation within 40 degrees\n",
        "    width_shift_range=0.2,       # Horizontal shift (20% of width)\n",
        "    height_shift_range=0.2,      # Vertical shift (20% of height)\n",
        "    shear_range=0.2,             # Shearing transformation\n",
        "    zoom_range=0.2,              # Random zoom in/out (±20%)\n",
        "    horizontal_flip=True,        # Randomly flip images horizontally\n",
        "    fill_mode='nearest'          # Fill pixels created after rotation/shift\n",
        ")\n",
        "\n",
        "\n",
        "img = load_img('/content/cat.webp')\n",
        "x = img_to_array(img)\n",
        "x = x.reshape((1,) + x.shape)\n"
      ],
      "metadata": {
        "id": "Um0v3iDNfoW8"
      },
      "execution_count": 29,
      "outputs": []
    },
    {
      "cell_type": "code",
      "source": [
        "import os\n",
        "\n",
        "# Create the preview directory if it doesn't exist\n",
        "os.makedirs('preview', exist_ok=True)  # Directory where Created Images Will be Stored\n"
      ],
      "metadata": {
        "id": "r5PqNnUCOf_w"
      },
      "execution_count": 27,
      "outputs": []
    },
    {
      "cell_type": "code",
      "source": [
        "i = 0\n",
        "for batch in datagen.flow(x,\n",
        "                      batch_size=1, # Generate 1 Augmented Image Per Iterations\n",
        "                      save_to_dir='preview',\n",
        "                      save_prefix='cat',\n",
        "                      save_format='jpeg'):\n",
        "  i += 1\n",
        "  if i > 20:   # Generate and save 20 images\n",
        "    break"
      ],
      "metadata": {
        "id": "DiWGoGSZNs_m"
      },
      "execution_count": 30,
      "outputs": []
    },
    {
      "cell_type": "code",
      "source": [
        "# In Files Section See Preview Folder Will be Created and in Under that 20 Differnt Variants of Same Image Is Created"
      ],
      "metadata": {
        "id": "mX6FJvvkSrC0"
      },
      "execution_count": null,
      "outputs": []
    }
  ]
}