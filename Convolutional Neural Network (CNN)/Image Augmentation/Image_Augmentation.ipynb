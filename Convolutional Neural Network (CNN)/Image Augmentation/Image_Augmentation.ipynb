{
  "nbformat": 4,
  "nbformat_minor": 0,
  "metadata": {
    "colab": {
      "provenance": [],
      "gpuType": "T4"
    },
    "kernelspec": {
      "name": "python3",
      "display_name": "Python 3"
    },
    "language_info": {
      "name": "python"
    },
    "accelerator": "GPU"
  },
  "cells": [
    {
      "cell_type": "code",
      "execution_count": null,
      "metadata": {
        "id": "79GVJF6AdwZ_"
      },
      "outputs": [],
      "source": [
        "!pip install kagglehub"
      ]
    },
    {
      "cell_type": "code",
      "source": [
        "import kagglehub\n",
        "\n",
        "# Download the dataset\n",
        "path = kagglehub.dataset_download(\"bhavikjikadara/dog-and-cat-classification-dataset\")\n",
        "\n",
        "print(\"Path to dataset files:\", path)"
      ],
      "metadata": {
        "id": "O8L6KPYAd6N0"
      },
      "execution_count": null,
      "outputs": []
    },
    {
      "cell_type": "code",
      "source": [
        "import tensorflow\n",
        "from tensorflow import keras\n",
        "from tensorflow.keras.preprocessing.image import ImageDataGenerator, load_img, img_to_array"
      ],
      "metadata": {
        "id": "xbNDqDYDebPj"
      },
      "execution_count": 25,
      "outputs": []
    },
    {
      "cell_type": "code",
      "source": [
        "datagen = ImageDataGenerator(\n",
        "    rotation_range=40,           # Random rotation within 40 degrees\n",
        "    width_shift_range=0.2,       # Horizontal shift (20% of width)\n",
        "    height_shift_range=0.2,      # Vertical shift (20% of height)\n",
        "    shear_range=0.2,             # Shearing transformation\n",
        "    zoom_range=0.2,              # Random zoom in/out (±20%)\n",
        "    horizontal_flip=True,        # Randomly flip images horizontally\n",
        "    fill_mode='nearest'          # Fill pixels created after rotation/shift\n",
        ")\n",
        "\n",
        "\n",
        "img = load_img('/content/cat.webp')\n",
        "x = img_to_array(img)\n",
        "x = x.reshape((1,) + x.shape)\n"
      ],
      "metadata": {
        "id": "Um0v3iDNfoW8"
      },
      "execution_count": 29,
      "outputs": []
    },
    {
      "cell_type": "code",
      "source": [
        "import os\n",
        "\n",
        "# Create the preview directory if it doesn't exist\n",
        "os.makedirs('preview', exist_ok=True)  # Directory where Created Images Will be Stored\n"
      ],
      "metadata": {
        "id": "r5PqNnUCOf_w"
      },
      "execution_count": 27,
      "outputs": []
    },
    {
      "cell_type": "code",
      "source": [
        "i = 0\n",
        "for batch in datagen.flow(x,\n",
        "                      batch_size=1, # Generate 1 Augmented Image Per Iterations\n",
        "                      save_to_dir='preview',\n",
        "                      save_prefix='cat',\n",
        "                      save_format='jpeg'):\n",
        "  i += 1\n",
        "  if i > 20:   # Generate and save 20 images\n",
        "    break"
      ],
      "metadata": {
        "id": "DiWGoGSZNs_m"
      },
      "execution_count": 30,
      "outputs": []
    },
    {
      "cell_type": "code",
      "source": [
        "# In Files Section See Preview Folder Will be Created and in Under that 20 Differnt Variants of Same Image Is Created"
      ],
      "metadata": {
        "id": "mX6FJvvkSrC0"
      },
      "execution_count": null,
      "outputs": []
    },
    {
      "cell_type": "code",
      "source": [
        "!zip -r preview.zip preview/\n"
      ],
      "metadata": {
        "colab": {
          "base_uri": "https://localhost:8080/"
        },
        "id": "PacJkk4dU-Rk",
        "outputId": "7f005a2f-c945-4726-9574-9510654b8b91"
      },
      "execution_count": 31,
      "outputs": [
        {
          "output_type": "stream",
          "name": "stdout",
          "text": [
            "  adding: preview/ (stored 0%)\n",
            "  adding: preview/cat_0_7874.jpeg (deflated 2%)\n",
            "  adding: preview/cat_0_6768.jpeg (deflated 2%)\n",
            "  adding: preview/cat_0_4910.jpeg (deflated 2%)\n",
            "  adding: preview/cat_0_3573.jpeg (deflated 2%)\n",
            "  adding: preview/cat_0_2720.jpeg (deflated 2%)\n",
            "  adding: preview/Image_Augmentation.ipynb (deflated 68%)\n",
            "  adding: preview/cat_0_9509.jpeg (deflated 5%)\n",
            "  adding: preview/cat_0_1296.jpeg (deflated 2%)\n",
            "  adding: preview/cat_0_5002.jpeg (deflated 2%)\n",
            "  adding: preview/cat_0_139.jpeg (deflated 2%)\n",
            "  adding: preview/cat_0_8505.jpeg (deflated 3%)\n",
            "  adding: preview/cat_0_8913.jpeg (deflated 3%)\n",
            "  adding: preview/cat_0_7597.jpeg (deflated 3%)\n",
            "  adding: preview/cat_0_8400.jpeg (deflated 4%)\n",
            "  adding: preview/cat_0_7216.jpeg (deflated 2%)\n",
            "  adding: preview/cat_0_8018.jpeg (deflated 3%)\n",
            "  adding: preview/cat_0_6627.jpeg (deflated 2%)\n",
            "  adding: preview/cat_0_7954.jpeg (deflated 2%)\n",
            "  adding: preview/cat_0_4620.jpeg (deflated 2%)\n",
            "  adding: preview/cat_0_1945.jpeg (deflated 3%)\n",
            "  adding: preview/cat_0_5328.jpeg (deflated 1%)\n",
            "  adding: preview/cat_0_5392.jpeg (deflated 2%)\n",
            "  adding: preview/cat_0_7956.jpeg (deflated 3%)\n",
            "  adding: preview/cat_0_3135.jpeg (deflated 5%)\n",
            "  adding: preview/cat_0_5368.jpeg (deflated 2%)\n",
            "  adding: preview/cat_0_6162.jpeg (deflated 6%)\n",
            "  adding: preview/cat_0_6148.jpeg (deflated 1%)\n",
            "  adding: preview/cat_0_3025.jpeg (deflated 3%)\n",
            "  adding: preview/cat_0_1742.jpeg (deflated 2%)\n",
            "  adding: preview/cat_0_3383.jpeg (deflated 3%)\n",
            "  adding: preview/cat_0_6233.jpeg (deflated 1%)\n",
            "  adding: preview/cat_0_8284.jpeg (deflated 3%)\n",
            "  adding: preview/cat_0_9099.jpeg (deflated 3%)\n",
            "  adding: preview/cat_0_4074.jpeg (deflated 3%)\n",
            "  adding: preview/cat_0_2030.jpeg (deflated 3%)\n",
            "  adding: preview/cat_0_4987.jpeg (deflated 1%)\n",
            "  adding: preview/cat_0_1104.jpeg (deflated 2%)\n",
            "  adding: preview/cat_0_6669.jpeg (deflated 3%)\n",
            "  adding: preview/cat_0_8800.jpeg (deflated 2%)\n",
            "  adding: preview/cat_0_2420.jpeg (deflated 2%)\n",
            "  adding: preview/cat_0_3031.jpeg (deflated 3%)\n",
            "  adding: preview/cat_0_4649.jpeg (deflated 2%)\n",
            "  adding: preview/cat_0_9424.jpeg (deflated 2%)\n",
            "  adding: preview/cat_0_7538.jpeg (deflated 3%)\n",
            "  adding: preview/cat_0_2666.jpeg (deflated 2%)\n",
            "  adding: preview/cat_0_5149.jpeg (deflated 1%)\n",
            "  adding: preview/cat_0_7076.jpeg (deflated 7%)\n",
            "  adding: preview/cat_0_4204.jpeg (deflated 3%)\n",
            "  adding: preview/cat_0_8369.jpeg (deflated 2%)\n",
            "  adding: preview/cat_0_8118.jpeg (deflated 2%)\n",
            "  adding: preview/cat_0_4813.jpeg (deflated 2%)\n",
            "  adding: preview/cat_0_4660.jpeg (deflated 2%)\n",
            "  adding: preview/cat_0_6180.jpeg (deflated 2%)\n",
            "  adding: preview/cat_0_1554.jpeg (deflated 3%)\n",
            "  adding: preview/cat_0_1973.jpeg (deflated 2%)\n",
            "  adding: preview/cat_0_2596.jpeg (deflated 2%)\n",
            "  adding: preview/cat_0_3043.jpeg (deflated 3%)\n",
            "  adding: preview/cat_0_9271.jpeg (deflated 5%)\n",
            "  adding: preview/cat_0_6872.jpeg (deflated 6%)\n",
            "  adding: preview/cat_0_1214.jpeg (deflated 3%)\n",
            "  adding: preview/cat_0_3157.jpeg (deflated 3%)\n",
            "  adding: preview/cat_0_1289.jpeg (deflated 3%)\n",
            "  adding: preview/cat_0_130.jpeg (deflated 2%)\n",
            "  adding: preview/cat_0_8562.jpeg (deflated 3%)\n",
            "  adding: preview/cat_0_245.jpeg (deflated 2%)\n",
            "  adding: preview/cat_0_7571.jpeg (deflated 2%)\n",
            "  adding: preview/cat_0_1875.jpeg (deflated 2%)\n",
            "  adding: preview/cat_0_9292.jpeg (deflated 4%)\n",
            "  adding: preview/cat_0_9831.jpeg (deflated 3%)\n",
            "  adding: preview/cat_0_2803.jpeg (deflated 5%)\n",
            "  adding: preview/cat_0_2013.jpeg (deflated 2%)\n",
            "  adding: preview/cat_0_8393.jpeg (deflated 2%)\n",
            "  adding: preview/cat_0_7917.jpeg (deflated 4%)\n",
            "  adding: preview/cat_0_6500.jpeg (deflated 2%)\n",
            "  adding: preview/cat_0_3425.jpeg (deflated 2%)\n",
            "  adding: preview/cat_0_7447.jpeg (deflated 1%)\n",
            "  adding: preview/cat_0_1546.jpeg (deflated 1%)\n",
            "  adding: preview/cat_0_7373.jpeg (deflated 2%)\n",
            "  adding: preview/cat_0_4578.jpeg (deflated 2%)\n",
            "  adding: preview/cat_0_3008.jpeg (deflated 3%)\n",
            "  adding: preview/cat_0_3701.jpeg (deflated 3%)\n",
            "  adding: preview/cat_0_2054.jpeg (deflated 5%)\n",
            "  adding: preview/cat_0_437.jpeg (deflated 2%)\n",
            "  adding: preview/cat_0_1142.jpeg (deflated 2%)\n",
            "  adding: preview/cat_0_1667.jpeg (deflated 2%)\n"
          ]
        }
      ]
    },
    {
      "cell_type": "code",
      "source": [
        "from google.colab import files\n",
        "files.download('preview.zip')\n"
      ],
      "metadata": {
        "colab": {
          "base_uri": "https://localhost:8080/",
          "height": 17
        },
        "id": "NtFftypWVAYA",
        "outputId": "f771953a-2340-48ea-e38f-dadb8354d3ff"
      },
      "execution_count": 32,
      "outputs": [
        {
          "output_type": "display_data",
          "data": {
            "text/plain": [
              "<IPython.core.display.Javascript object>"
            ],
            "application/javascript": [
              "\n",
              "    async function download(id, filename, size) {\n",
              "      if (!google.colab.kernel.accessAllowed) {\n",
              "        return;\n",
              "      }\n",
              "      const div = document.createElement('div');\n",
              "      const label = document.createElement('label');\n",
              "      label.textContent = `Downloading \"${filename}\": `;\n",
              "      div.appendChild(label);\n",
              "      const progress = document.createElement('progress');\n",
              "      progress.max = size;\n",
              "      div.appendChild(progress);\n",
              "      document.body.appendChild(div);\n",
              "\n",
              "      const buffers = [];\n",
              "      let downloaded = 0;\n",
              "\n",
              "      const channel = await google.colab.kernel.comms.open(id);\n",
              "      // Send a message to notify the kernel that we're ready.\n",
              "      channel.send({})\n",
              "\n",
              "      for await (const message of channel.messages) {\n",
              "        // Send a message to notify the kernel that we're ready.\n",
              "        channel.send({})\n",
              "        if (message.buffers) {\n",
              "          for (const buffer of message.buffers) {\n",
              "            buffers.push(buffer);\n",
              "            downloaded += buffer.byteLength;\n",
              "            progress.value = downloaded;\n",
              "          }\n",
              "        }\n",
              "      }\n",
              "      const blob = new Blob(buffers, {type: 'application/binary'});\n",
              "      const a = document.createElement('a');\n",
              "      a.href = window.URL.createObjectURL(blob);\n",
              "      a.download = filename;\n",
              "      div.appendChild(a);\n",
              "      a.click();\n",
              "      div.remove();\n",
              "    }\n",
              "  "
            ]
          },
          "metadata": {}
        },
        {
          "output_type": "display_data",
          "data": {
            "text/plain": [
              "<IPython.core.display.Javascript object>"
            ],
            "application/javascript": [
              "download(\"download_76501efd-612b-4768-b27d-ab30783a6eb5\", \"preview.zip\", 2817512)"
            ]
          },
          "metadata": {}
        }
      ]
    }
  ]
}