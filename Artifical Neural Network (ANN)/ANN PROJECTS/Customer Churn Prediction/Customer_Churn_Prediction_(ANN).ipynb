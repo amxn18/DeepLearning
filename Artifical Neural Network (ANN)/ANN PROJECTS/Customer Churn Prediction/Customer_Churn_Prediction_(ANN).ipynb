{
  "nbformat": 4,
  "nbformat_minor": 0,
  "metadata": {
    "colab": {
      "provenance": [],
      "gpuType": "T4"
    },
    "kernelspec": {
      "name": "python3",
      "display_name": "Python 3"
    },
    "language_info": {
      "name": "python"
    },
    "accelerator": "GPU"
  },
  "cells": [
    {
      "cell_type": "code",
      "source": [
        "from re import L\n",
        "import pandas as pd\n",
        "import numpy as np\n",
        "import matplotlib.pyplot as plt\n",
        "\n",
        "df = pd.read_csv('/data.csv')\n",
        "df.drop('customerID', axis=1, inplace=True)\n",
        "\n",
        "dfNew = df[df['TotalCharges'] != ' '].copy()\n",
        "dfNew['TotalCharges'] = pd.to_numeric(dfNew['TotalCharges'])\n",
        "dfNew.dtypes\n",
        "\n",
        "# Visualisation(Tenure)\n",
        "churnNo =  dfNew[dfNew.Churn == 'No'].tenure\n",
        "churnYes = dfNew[dfNew.Churn == 'Yes'].tenure\n",
        "\n",
        "# plt.hist([churnNo, churnYes], color = ['red', 'green'], label = ['No', 'Yes'])\n",
        "# plt.xlabel('Tenure')\n",
        "# plt.ylabel('Count')\n",
        "# plt.legend()\n",
        "\n",
        "def knowColumn(df):\n",
        "  for column in dfNew:\n",
        "    if dfNew[column].dtype == object:\n",
        "        print(f'{column}: {dfNew[column].unique()}')\n",
        "dfNew.replace('No internet service', 'No', inplace = True)\n",
        "dfNew.replace('No phone service', 'No', inplace = True)\n",
        "\n",
        "# knowColumn(dfNew)\n",
        "\n",
        "categoricalColumns = ['gender', 'Partner', 'Dependents', 'PhoneService', 'MultipleLines', 'InternetService', 'OnlineSecurity', 'OnlineBackup', 'DeviceProtection', 'TechSupport', 'StreamingTV', 'StreamingMovies', 'Contract', 'PaperlessBilling', 'PaymentMethod', 'Churn']\n",
        "for column in categoricalColumns:\n",
        "  dfNew[column].replace({'Yes': 1, 'No': 0}, inplace = True)\n",
        "\n",
        "\n",
        "dfNew['gender'].replace({'Female' : 1, 'Male' : 0}, inplace = True)\n",
        "df2 = pd.get_dummies(data = dfNew, columns = ['InternetService', 'Contract', 'PaymentMethod'], dtype = int)\n",
        "df2.sample(4)\n",
        "\n",
        "\n",
        "# Scaling\n",
        "from sklearn.preprocessing import MinMaxScaler\n",
        "columns_for_scaling = ['tenure', 'MonthlyCharges', 'TotalCharges']\n",
        "scaler = MinMaxScaler()\n",
        "df2[columns_for_scaling] = scaler.fit_transform(df2[columns_for_scaling])\n",
        "df2.sample(4)\n",
        "\n",
        "x = df2.drop('Churn', axis = 1)\n",
        "y = df2['Churn']\n",
        "from sklearn.model_selection import train_test_split\n",
        "x_train, x_test, y_train, y_test = train_test_split(x, y, test_size = 0.2, random_state = 42)\n",
        "\n",
        "import tensorflow as tf\n",
        "from tensorflow import keras\n",
        "# Columns --> 26\n",
        "model = keras.Sequential([\n",
        "    keras.layers.Dense(26, input_shape=(26,), activation='relu'),\n",
        "    keras.layers.Dropout(0.2),\n",
        "    keras.layers.Dense(15, activation='relu'),\n",
        "    keras.layers.Dropout(0.2),\n",
        "    keras.layers.Dense(1, activation='sigmoid')\n",
        "])\n",
        "\n",
        "model.compile(\n",
        "    optimizer='adam',\n",
        "    loss='binary_crossentropy',\n",
        "    metrics=['accuracy']\n",
        ")\n",
        "\n",
        "early_stop = keras.callbacks.EarlyStopping(monitor='val_loss', patience=5, restore_best_weights=True)\n",
        "\n",
        "model.fit(x_train, y_train, validation_split=0.2, epochs=100, callbacks=[early_stop])\n",
        "\n",
        "model.evaluate(x_test, y_test)\n",
        "\n",
        "yPredicted = model.predict(x_test)\n",
        "yPred = []\n",
        "for i in yPredicted:\n",
        "  if i > 0.5:\n",
        "    yPred.append(1)\n",
        "  else:\n",
        "    yPred.append(0)\n",
        "\n",
        "# print(y_test[:10])\n",
        "# print(yPred[:10])\n",
        "\n",
        "from sklearn.metrics import confusion_matrix, classification_report\n",
        "print(classification_report(y_test, yPred))\n",
        "\n",
        "import seaborn as sns\n",
        "cm = tf.math.confusion_matrix(labels=y_test, predictions=yPred)\n",
        "plt.figure(figsize = (10,7))\n",
        "sns.heatmap(cm, annot=True, fmt='d')\n",
        "plt.xlabel('Predicted')\n",
        "plt.ylabel('Truth')\n"
      ],
      "metadata": {
        "colab": {
          "base_uri": "https://localhost:8080/",
          "height": 1000
        },
        "id": "-xF3QQh7FJEJ",
        "outputId": "b5c88adc-85b3-40cb-b4ff-fc55942e9654"
      },
      "execution_count": 27,
      "outputs": [
        {
          "output_type": "stream",
          "name": "stderr",
          "text": [
            "<ipython-input-27-48eb8e757cda>:33: FutureWarning: A value is trying to be set on a copy of a DataFrame or Series through chained assignment using an inplace method.\n",
            "The behavior will change in pandas 3.0. This inplace method will never work because the intermediate object on which we are setting values always behaves as a copy.\n",
            "\n",
            "For example, when doing 'df[col].method(value, inplace=True)', try using 'df.method({col: value}, inplace=True)' or df[col] = df[col].method(value) instead, to perform the operation inplace on the original object.\n",
            "\n",
            "\n",
            "  dfNew[column].replace({'Yes': 1, 'No': 0}, inplace = True)\n",
            "<ipython-input-27-48eb8e757cda>:33: FutureWarning: Downcasting behavior in `replace` is deprecated and will be removed in a future version. To retain the old behavior, explicitly call `result.infer_objects(copy=False)`. To opt-in to the future behavior, set `pd.set_option('future.no_silent_downcasting', True)`\n",
            "  dfNew[column].replace({'Yes': 1, 'No': 0}, inplace = True)\n",
            "<ipython-input-27-48eb8e757cda>:36: FutureWarning: Downcasting behavior in `replace` is deprecated and will be removed in a future version. To retain the old behavior, explicitly call `result.infer_objects(copy=False)`. To opt-in to the future behavior, set `pd.set_option('future.no_silent_downcasting', True)`\n",
            "  dfNew['gender'].replace({'Female' : 1, 'Male' : 0}, inplace = True)\n",
            "/usr/local/lib/python3.11/dist-packages/keras/src/layers/core/dense.py:87: UserWarning: Do not pass an `input_shape`/`input_dim` argument to a layer. When using Sequential models, prefer using an `Input(shape)` object as the first layer in the model instead.\n",
            "  super().__init__(activity_regularizer=activity_regularizer, **kwargs)\n"
          ]
        },
        {
          "output_type": "stream",
          "name": "stdout",
          "text": [
            "Epoch 1/100\n",
            "\u001b[1m141/141\u001b[0m \u001b[32m━━━━━━━━━━━━━━━━━━━━\u001b[0m\u001b[37m\u001b[0m \u001b[1m7s\u001b[0m 17ms/step - accuracy: 0.5642 - loss: 0.6893 - val_accuracy: 0.7609 - val_loss: 0.4670\n",
            "Epoch 2/100\n",
            "\u001b[1m141/141\u001b[0m \u001b[32m━━━━━━━━━━━━━━━━━━━━\u001b[0m\u001b[37m\u001b[0m \u001b[1m1s\u001b[0m 4ms/step - accuracy: 0.7583 - loss: 0.4798 - val_accuracy: 0.7911 - val_loss: 0.4246\n",
            "Epoch 3/100\n",
            "\u001b[1m141/141\u001b[0m \u001b[32m━━━━━━━━━━━━━━━━━━━━\u001b[0m\u001b[37m\u001b[0m \u001b[1m1s\u001b[0m 3ms/step - accuracy: 0.7810 - loss: 0.4587 - val_accuracy: 0.7893 - val_loss: 0.4138\n",
            "Epoch 4/100\n",
            "\u001b[1m141/141\u001b[0m \u001b[32m━━━━━━━━━━━━━━━━━━━━\u001b[0m\u001b[37m\u001b[0m \u001b[1m1s\u001b[0m 3ms/step - accuracy: 0.7708 - loss: 0.4678 - val_accuracy: 0.7929 - val_loss: 0.4127\n",
            "Epoch 5/100\n",
            "\u001b[1m141/141\u001b[0m \u001b[32m━━━━━━━━━━━━━━━━━━━━\u001b[0m\u001b[37m\u001b[0m \u001b[1m0s\u001b[0m 3ms/step - accuracy: 0.7923 - loss: 0.4341 - val_accuracy: 0.7991 - val_loss: 0.4076\n",
            "Epoch 6/100\n",
            "\u001b[1m141/141\u001b[0m \u001b[32m━━━━━━━━━━━━━━━━━━━━\u001b[0m\u001b[37m\u001b[0m \u001b[1m1s\u001b[0m 3ms/step - accuracy: 0.7896 - loss: 0.4464 - val_accuracy: 0.8027 - val_loss: 0.4051\n",
            "Epoch 7/100\n",
            "\u001b[1m141/141\u001b[0m \u001b[32m━━━━━━━━━━━━━━━━━━━━\u001b[0m\u001b[37m\u001b[0m \u001b[1m1s\u001b[0m 4ms/step - accuracy: 0.7936 - loss: 0.4339 - val_accuracy: 0.7991 - val_loss: 0.4030\n",
            "Epoch 8/100\n",
            "\u001b[1m141/141\u001b[0m \u001b[32m━━━━━━━━━━━━━━━━━━━━\u001b[0m\u001b[37m\u001b[0m \u001b[1m1s\u001b[0m 4ms/step - accuracy: 0.8007 - loss: 0.4282 - val_accuracy: 0.8080 - val_loss: 0.4025\n",
            "Epoch 9/100\n",
            "\u001b[1m141/141\u001b[0m \u001b[32m━━━━━━━━━━━━━━━━━━━━\u001b[0m\u001b[37m\u001b[0m \u001b[1m1s\u001b[0m 4ms/step - accuracy: 0.8008 - loss: 0.4140 - val_accuracy: 0.7991 - val_loss: 0.4031\n",
            "Epoch 10/100\n",
            "\u001b[1m141/141\u001b[0m \u001b[32m━━━━━━━━━━━━━━━━━━━━\u001b[0m\u001b[37m\u001b[0m \u001b[1m1s\u001b[0m 5ms/step - accuracy: 0.7958 - loss: 0.4322 - val_accuracy: 0.8071 - val_loss: 0.4015\n",
            "Epoch 11/100\n",
            "\u001b[1m141/141\u001b[0m \u001b[32m━━━━━━━━━━━━━━━━━━━━\u001b[0m\u001b[37m\u001b[0m \u001b[1m1s\u001b[0m 5ms/step - accuracy: 0.8008 - loss: 0.4121 - val_accuracy: 0.8098 - val_loss: 0.4017\n",
            "Epoch 12/100\n",
            "\u001b[1m141/141\u001b[0m \u001b[32m━━━━━━━━━━━━━━━━━━━━\u001b[0m\u001b[37m\u001b[0m \u001b[1m1s\u001b[0m 5ms/step - accuracy: 0.7867 - loss: 0.4346 - val_accuracy: 0.8160 - val_loss: 0.4009\n",
            "Epoch 13/100\n",
            "\u001b[1m141/141\u001b[0m \u001b[32m━━━━━━━━━━━━━━━━━━━━\u001b[0m\u001b[37m\u001b[0m \u001b[1m1s\u001b[0m 5ms/step - accuracy: 0.7938 - loss: 0.4299 - val_accuracy: 0.8124 - val_loss: 0.3994\n",
            "Epoch 14/100\n",
            "\u001b[1m141/141\u001b[0m \u001b[32m━━━━━━━━━━━━━━━━━━━━\u001b[0m\u001b[37m\u001b[0m \u001b[1m1s\u001b[0m 4ms/step - accuracy: 0.8002 - loss: 0.4129 - val_accuracy: 0.8124 - val_loss: 0.3979\n",
            "Epoch 15/100\n",
            "\u001b[1m141/141\u001b[0m \u001b[32m━━━━━━━━━━━━━━━━━━━━\u001b[0m\u001b[37m\u001b[0m \u001b[1m1s\u001b[0m 4ms/step - accuracy: 0.8007 - loss: 0.4264 - val_accuracy: 0.8142 - val_loss: 0.3969\n",
            "Epoch 16/100\n",
            "\u001b[1m141/141\u001b[0m \u001b[32m━━━━━━━━━━━━━━━━━━━━\u001b[0m\u001b[37m\u001b[0m \u001b[1m1s\u001b[0m 4ms/step - accuracy: 0.7973 - loss: 0.4312 - val_accuracy: 0.8124 - val_loss: 0.3983\n",
            "Epoch 17/100\n",
            "\u001b[1m141/141\u001b[0m \u001b[32m━━━━━━━━━━━━━━━━━━━━\u001b[0m\u001b[37m\u001b[0m \u001b[1m1s\u001b[0m 4ms/step - accuracy: 0.8077 - loss: 0.4165 - val_accuracy: 0.8098 - val_loss: 0.3984\n",
            "Epoch 18/100\n",
            "\u001b[1m141/141\u001b[0m \u001b[32m━━━━━━━━━━━━━━━━━━━━\u001b[0m\u001b[37m\u001b[0m \u001b[1m1s\u001b[0m 3ms/step - accuracy: 0.7926 - loss: 0.4300 - val_accuracy: 0.8142 - val_loss: 0.3980\n",
            "Epoch 19/100\n",
            "\u001b[1m141/141\u001b[0m \u001b[32m━━━━━━━━━━━━━━━━━━━━\u001b[0m\u001b[37m\u001b[0m \u001b[1m1s\u001b[0m 3ms/step - accuracy: 0.7956 - loss: 0.4311 - val_accuracy: 0.8133 - val_loss: 0.3980\n",
            "Epoch 20/100\n",
            "\u001b[1m141/141\u001b[0m \u001b[32m━━━━━━━━━━━━━━━━━━━━\u001b[0m\u001b[37m\u001b[0m \u001b[1m1s\u001b[0m 4ms/step - accuracy: 0.8015 - loss: 0.4226 - val_accuracy: 0.8151 - val_loss: 0.3983\n",
            "\u001b[1m44/44\u001b[0m \u001b[32m━━━━━━━━━━━━━━━━━━━━\u001b[0m\u001b[37m\u001b[0m \u001b[1m0s\u001b[0m 6ms/step - accuracy: 0.7813 - loss: 0.4320\n",
            "\u001b[1m44/44\u001b[0m \u001b[32m━━━━━━━━━━━━━━━━━━━━\u001b[0m\u001b[37m\u001b[0m \u001b[1m0s\u001b[0m 4ms/step\n",
            "              precision    recall  f1-score   support\n",
            "\n",
            "           0       0.84      0.88      0.86      1033\n",
            "           1       0.61      0.53      0.56       374\n",
            "\n",
            "    accuracy                           0.78      1407\n",
            "   macro avg       0.72      0.70      0.71      1407\n",
            "weighted avg       0.78      0.78      0.78      1407\n",
            "\n"
          ]
        },
        {
          "output_type": "execute_result",
          "data": {
            "text/plain": [
              "Text(95.72222222222221, 0.5, 'Truth')"
            ]
          },
          "metadata": {},
          "execution_count": 27
        },
        {
          "output_type": "display_data",
          "data": {
            "text/plain": [
              "<Figure size 1000x700 with 2 Axes>"
            ],
            "image/png": "[encoded data removed]"
          },
          "metadata": {}
        }
      ]
    },
    {
      "cell_type": "code",
      "execution_count": null,
      "metadata": {
        "id": "OwiHJhfnEH1y"
      },
      "outputs": [],
      "source": []
    }
  ]
}